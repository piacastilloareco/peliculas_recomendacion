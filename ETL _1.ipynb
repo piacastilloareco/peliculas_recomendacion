{
 "cells": [
  {
   "attachments": {},
   "cell_type": "markdown",
   "metadata": {},
   "source": [
    "1° PROYECTO INDIVIDUAL MLOps -1er parte\n",
    "ETL"
   ]
  },
  {
   "attachments": {},
   "cell_type": "markdown",
   "metadata": {},
   "source": [
    "1) Importación de librerías"
   ]
  },
  {
   "cell_type": "code",
   "execution_count": 482,
   "metadata": {},
   "outputs": [
    {
     "data": {
      "text/plain": [
       "'es_ES'"
      ]
     },
     "execution_count": 482,
     "metadata": {},
     "output_type": "execute_result"
    }
   ],
   "source": [
    "import pandas as pd\n",
    "import numpy as np\n",
    "import locale\n",
    "import re\n",
    "locale.setlocale(locale.LC_TIME, 'es_ES')"
   ]
  },
  {
   "attachments": {},
   "cell_type": "markdown",
   "metadata": {},
   "source": [
    "2) Lectura de archivo csv como dataframe"
   ]
  },
  {
   "cell_type": "code",
   "execution_count": 483,
   "metadata": {},
   "outputs": [
    {
     "name": "stderr",
     "output_type": "stream",
     "text": [
      "C:\\Users\\Economia\\AppData\\Local\\Temp\\ipykernel_18720\\3752448005.py:1: DtypeWarning: Columns (10) have mixed types. Specify dtype option on import or set low_memory=False.\n",
      "  df= pd.read_csv(r\"C:/Users/Economia/Documents/Soy Henry/Proyecto Individual/movies_dataset.csv\", sep=\",\", encoding = \"utf-8\")\n"
     ]
    }
   ],
   "source": [
    "df= pd.read_csv(r\"C:/Users/Economia/Documents/Soy Henry/Proyecto Individual/movies_dataset.csv\", sep=\",\", encoding = \"utf-8\")"
   ]
  },
  {
   "attachments": {},
   "cell_type": "markdown",
   "metadata": {},
   "source": [
    "3) Transformaciones\n",
    "\n",
    "\n",
    "a) Expansión de columnas anidadas"
   ]
  },
  {
   "cell_type": "code",
   "execution_count": 484,
   "metadata": {},
   "outputs": [
    {
     "name": "stdout",
     "output_type": "stream",
     "text": [
      "Valores no válidos en la columna 'id': ['1997-08-20', '2012-09-29', '2014-01-01']\n"
     ]
    }
   ],
   "source": [
    "invalid_ids = []  # Lista para almacenar los valores no válidos\n",
    "\n",
    "# Expresión regular para verificar si un string contiene solo dígitos\n",
    "regex = r'^\\d+$'\n",
    "\n",
    "# Iterar sobre los valores de la columna 'id' y verificar si cumplen con el patrón\n",
    "for value in df['id']:\n",
    "    if not re.match(regex, str(value)):\n",
    "        # El valor no cumple con el patrón, agregarlo a la lista de valores no válidos\n",
    "        invalid_ids.append(value)\n",
    "\n",
    "# Imprimir la lista de valores no válidos\n",
    "print(\"Valores no válidos en la columna 'id':\", invalid_ids)"
   ]
  },
  {
   "cell_type": "code",
   "execution_count": 485,
   "metadata": {},
   "outputs": [],
   "source": [
    "# Índices de las filas que deseas eliminar\n",
    "indices_eliminar = [19730, 29503, 35587]\n",
    "\n",
    "# Eliminar las filas utilizando el método 'drop'\n",
    "df = df.drop(indices_eliminar)"
   ]
  },
  {
   "cell_type": "code",
   "execution_count": 486,
   "metadata": {},
   "outputs": [],
   "source": [
    "df3 = pd.DataFrame(df[['genres',\"id\"]])"
   ]
  },
  {
   "cell_type": "code",
   "execution_count": 487,
   "metadata": {},
   "outputs": [],
   "source": [
    "df3['genres'] = df3['genres'].replace({r'\\[|\\]': ''}, regex=True)"
   ]
  },
  {
   "cell_type": "code",
   "execution_count": 488,
   "metadata": {},
   "outputs": [],
   "source": [
    "# Utilizar la función findall para separar los elementos en filas individuales\n",
    "df3['genres'] = df3['genres'].str.findall(r\"\\{.*?\\}\")\n",
    "\n",
    "# Explotar los elementos de la columna 'genres' en registros individuales\n",
    "df4 = df3.explode('genres')"
   ]
  },
  {
   "cell_type": "code",
   "execution_count": 489,
   "metadata": {},
   "outputs": [],
   "source": [
    "df4['genres'] = df4['genres'].replace({r'{|}': ''}, regex=True).to_frame()"
   ]
  },
  {
   "cell_type": "code",
   "execution_count": 490,
   "metadata": {},
   "outputs": [],
   "source": [
    "df4[['id_genres', 'name_genres']] = df4['genres'].str.extract(r\"'id': (\\d+), 'name': '([^']+)'\")"
   ]
  },
  {
   "cell_type": "code",
   "execution_count": 491,
   "metadata": {},
   "outputs": [],
   "source": [
    "df4.drop('genres', axis=1, inplace=True)"
   ]
  },
  {
   "cell_type": "code",
   "execution_count": 492,
   "metadata": {},
   "outputs": [],
   "source": [
    "df4['name_genres'] = df4['name_genres'].astype(str)\n",
    "df4_1 = df4.groupby(df4.index).agg({'name_genres': ', '.join, 'id': 'first'})"
   ]
  },
  {
   "cell_type": "code",
   "execution_count": 493,
   "metadata": {},
   "outputs": [
    {
     "data": {
      "text/html": [
       "<div>\n",
       "<style scoped>\n",
       "    .dataframe tbody tr th:only-of-type {\n",
       "        vertical-align: middle;\n",
       "    }\n",
       "\n",
       "    .dataframe tbody tr th {\n",
       "        vertical-align: top;\n",
       "    }\n",
       "\n",
       "    .dataframe thead th {\n",
       "        text-align: right;\n",
       "    }\n",
       "</style>\n",
       "<table border=\"1\" class=\"dataframe\">\n",
       "  <thead>\n",
       "    <tr style=\"text-align: right;\">\n",
       "      <th></th>\n",
       "      <th>name_genres</th>\n",
       "      <th>id</th>\n",
       "    </tr>\n",
       "  </thead>\n",
       "  <tbody>\n",
       "    <tr>\n",
       "      <th>0</th>\n",
       "      <td>Animation, Comedy, Family</td>\n",
       "      <td>862</td>\n",
       "    </tr>\n",
       "    <tr>\n",
       "      <th>1</th>\n",
       "      <td>Adventure, Fantasy, Family</td>\n",
       "      <td>8844</td>\n",
       "    </tr>\n",
       "    <tr>\n",
       "      <th>2</th>\n",
       "      <td>Romance, Comedy</td>\n",
       "      <td>15602</td>\n",
       "    </tr>\n",
       "    <tr>\n",
       "      <th>3</th>\n",
       "      <td>Comedy, Drama, Romance</td>\n",
       "      <td>31357</td>\n",
       "    </tr>\n",
       "    <tr>\n",
       "      <th>4</th>\n",
       "      <td>Comedy</td>\n",
       "      <td>11862</td>\n",
       "    </tr>\n",
       "    <tr>\n",
       "      <th>...</th>\n",
       "      <td>...</td>\n",
       "      <td>...</td>\n",
       "    </tr>\n",
       "    <tr>\n",
       "      <th>45461</th>\n",
       "      <td>Drama, Family</td>\n",
       "      <td>439050</td>\n",
       "    </tr>\n",
       "    <tr>\n",
       "      <th>45462</th>\n",
       "      <td>Drama</td>\n",
       "      <td>111109</td>\n",
       "    </tr>\n",
       "    <tr>\n",
       "      <th>45463</th>\n",
       "      <td>Action, Drama, Thriller</td>\n",
       "      <td>67758</td>\n",
       "    </tr>\n",
       "    <tr>\n",
       "      <th>45464</th>\n",
       "      <td>nan</td>\n",
       "      <td>227506</td>\n",
       "    </tr>\n",
       "    <tr>\n",
       "      <th>45465</th>\n",
       "      <td>nan</td>\n",
       "      <td>461257</td>\n",
       "    </tr>\n",
       "  </tbody>\n",
       "</table>\n",
       "<p>45463 rows × 2 columns</p>\n",
       "</div>"
      ],
      "text/plain": [
       "                      name_genres      id\n",
       "0       Animation, Comedy, Family     862\n",
       "1      Adventure, Fantasy, Family    8844\n",
       "2                 Romance, Comedy   15602\n",
       "3          Comedy, Drama, Romance   31357\n",
       "4                          Comedy   11862\n",
       "...                           ...     ...\n",
       "45461               Drama, Family  439050\n",
       "45462                       Drama  111109\n",
       "45463     Action, Drama, Thriller   67758\n",
       "45464                         nan  227506\n",
       "45465                         nan  461257\n",
       "\n",
       "[45463 rows x 2 columns]"
      ]
     },
     "execution_count": 493,
     "metadata": {},
     "output_type": "execute_result"
    }
   ],
   "source": [
    "df4_1 "
   ]
  },
  {
   "cell_type": "code",
   "execution_count": 494,
   "metadata": {},
   "outputs": [],
   "source": [
    "df['revenue'].fillna(0, inplace=True)"
   ]
  },
  {
   "cell_type": "code",
   "execution_count": 495,
   "metadata": {},
   "outputs": [],
   "source": [
    "df['budget'].fillna(0, inplace=True)"
   ]
  },
  {
   "attachments": {},
   "cell_type": "markdown",
   "metadata": {},
   "source": [
    "b) Modificaciones en datos de tipo fecha"
   ]
  },
  {
   "cell_type": "code",
   "execution_count": 496,
   "metadata": {},
   "outputs": [],
   "source": [
    "df['release_date'].dropna(inplace=True)"
   ]
  },
  {
   "cell_type": "code",
   "execution_count": 497,
   "metadata": {},
   "outputs": [],
   "source": [
    "df['release_date_copy'] = df['release_date']"
   ]
  },
  {
   "cell_type": "code",
   "execution_count": 498,
   "metadata": {},
   "outputs": [],
   "source": [
    "# Función para corregir el formato de las fechas\n",
    "def corregir_formato_fecha(date):\n",
    "    if date == 'Sin Fecha':\n",
    "        return date\n",
    "    try:\n",
    "        return pd.to_datetime(date, format='%Y-%m-%d')\n",
    "    except ValueError:\n",
    "        return 'Formato Inválido'"
   ]
  },
  {
   "cell_type": "code",
   "execution_count": 499,
   "metadata": {},
   "outputs": [],
   "source": [
    "# Aplicar la función para corregir el formato de las fechas en la columna 'release_date_copy'\n",
    "df['release_date_copy'] = df['release_date_copy'].apply(corregir_formato_fecha)\n",
    "\n",
    "# Ver los registros que no cumplen el formato válido\n",
    "registros_formato_invalido = df[df['release_date_copy'] == 'Formato Inválido']"
   ]
  },
  {
   "cell_type": "code",
   "execution_count": 500,
   "metadata": {},
   "outputs": [],
   "source": [
    "df['release_year'] = df['release_date_copy'].apply(lambda x: x.year if isinstance(x, pd.Timestamp) else None).astype('Int64')"
   ]
  },
  {
   "cell_type": "code",
   "execution_count": 501,
   "metadata": {},
   "outputs": [],
   "source": [
    "df['release_month'] = df['release_date_copy'].apply(lambda x: x.month if isinstance(x, pd.Timestamp) else None).astype('Int64')"
   ]
  },
  {
   "cell_type": "code",
   "execution_count": 502,
   "metadata": {},
   "outputs": [],
   "source": [
    "df['release_day'] = df['release_date_copy'].apply(lambda x: x.day if isinstance(x, pd.Timestamp) else None).astype('Int64')"
   ]
  },
  {
   "cell_type": "code",
   "execution_count": 503,
   "metadata": {},
   "outputs": [],
   "source": [
    "df = df.drop('release_date', axis=1) #elimino la columna release_date original que tiene fechas en formatos incorrectos"
   ]
  },
  {
   "cell_type": "code",
   "execution_count": 504,
   "metadata": {},
   "outputs": [],
   "source": [
    "df.rename(columns={'release_date_copy': 'release_date'}, inplace=True)"
   ]
  },
  {
   "cell_type": "code",
   "execution_count": 505,
   "metadata": {},
   "outputs": [],
   "source": [
    "# Función para corregir el formato de la fecha\n",
    "def corregir_formato_fecha(date):\n",
    "    if isinstance(date, pd.Timestamp):\n",
    "        return date.strftime('%Y-%m-%d')\n",
    "    else:\n",
    "        return date\n",
    "\n",
    "# Aplicar la función para corregir el formato de la columna 'release_date'\n",
    "df['release_date'] = df['release_date'].apply(corregir_formato_fecha)"
   ]
  },
  {
   "cell_type": "code",
   "execution_count": 506,
   "metadata": {},
   "outputs": [],
   "source": [
    "meses_dict = {\n",
    "    1: 'enero',\n",
    "    2: 'febrero',\n",
    "    3: 'marzo',\n",
    "    4: 'abril',\n",
    "    5: 'mayo',\n",
    "    6: 'junio',\n",
    "    7: 'julio',\n",
    "    8: 'agosto',\n",
    "    9: 'septiembre',\n",
    "    10: 'octubre',\n",
    "    11: 'noviembre',\n",
    "    12: 'diciembre'\n",
    "}\n",
    "\n",
    "df['release_month'] = df['release_month'].map(meses_dict)"
   ]
  },
  {
   "cell_type": "code",
   "execution_count": 507,
   "metadata": {},
   "outputs": [],
   "source": [
    "# Inicializar la columna 'day_of_week'\n",
    "df['day_of_week'] = ''\n",
    "\n",
    "# Recorrer los valores de la columna 'release_date' y obtener el día de la semana en español\n",
    "for i, date in enumerate(df['release_date']):\n",
    "    try:\n",
    "        dt = pd.to_datetime(date)\n",
    "        day_of_week_spanish = dt.strftime('%A').capitalize()\n",
    "        df.at[i, 'day_of_week'] = day_of_week_spanish\n",
    "    except ValueError:\n",
    "        df.at[i, 'day_of_week'] = 'Formato inválido'"
   ]
  },
  {
   "attachments": {},
   "cell_type": "markdown",
   "metadata": {},
   "source": [
    "Convierto y controlo que las variables numericas"
   ]
  },
  {
   "cell_type": "code",
   "execution_count": 508,
   "metadata": {},
   "outputs": [],
   "source": [
    "df['budget'] = pd.to_numeric(df['budget'], errors='coerce')"
   ]
  },
  {
   "cell_type": "code",
   "execution_count": 509,
   "metadata": {},
   "outputs": [],
   "source": [
    "# Crear la columna \"return\" con la división entre \"revenue\" y \"budget\"\n",
    "df['return'] = df['revenue'] / df['budget']\n",
    "\n",
    "# Reemplazar los valores NaN en la columna \"return\" con 0\n",
    "df['return'].fillna(0, inplace=True)"
   ]
  },
  {
   "cell_type": "code",
   "execution_count": 510,
   "metadata": {},
   "outputs": [],
   "source": [
    "# Reemplazar los valores \"inf\" en la columna \"return\" por 0\n",
    "df['return'].replace([np.inf, -np.inf], 0, inplace=True)"
   ]
  },
  {
   "attachments": {},
   "cell_type": "markdown",
   "metadata": {},
   "source": [
    "Eliminación de columnas innecesarias"
   ]
  },
  {
   "cell_type": "code",
   "execution_count": 511,
   "metadata": {},
   "outputs": [],
   "source": [
    "columns_1= ['video',\"imdb_id\", \"adult\", \"original_title\",\"poster_path\", \"homepage\"]\n",
    "df = df.drop(columns_1, axis=1) #elimino la columna innecesarias"
   ]
  },
  {
   "attachments": {},
   "cell_type": "markdown",
   "metadata": {},
   "source": [
    "Armo un dataset con las columnas ya editadas "
   ]
  },
  {
   "cell_type": "code",
   "execution_count": 512,
   "metadata": {},
   "outputs": [],
   "source": [
    "# Crear el nuevo dataframe con las columnas deseadas\n",
    "df_final = df[['id', 'day_of_week', 'return', 'release_month', 'release_year', 'title', 'popularity', 'vote_count', 'vote_average', 'release_date', 'budget', 'revenue']].copy()"
   ]
  },
  {
   "cell_type": "code",
   "execution_count": 513,
   "metadata": {},
   "outputs": [
    {
     "data": {
      "text/plain": [
       "Index(['id', 'day_of_week', 'return', 'release_month', 'release_year', 'title',\n",
       "       'popularity', 'vote_count', 'vote_average', 'release_date', 'budget',\n",
       "       'revenue'],\n",
       "      dtype='object')"
      ]
     },
     "execution_count": 513,
     "metadata": {},
     "output_type": "execute_result"
    }
   ],
   "source": [
    "df_final.columns\n"
   ]
  },
  {
   "attachments": {},
   "cell_type": "markdown",
   "metadata": {},
   "source": [
    "Ahora trabajamos con la columna cast del dataset credit"
   ]
  },
  {
   "attachments": {},
   "cell_type": "markdown",
   "metadata": {},
   "source": [
    "Expansión de columnas anidadas - proceso de armado de dataset para conocer mas sobre los actores"
   ]
  },
  {
   "cell_type": "code",
   "execution_count": 514,
   "metadata": {},
   "outputs": [],
   "source": [
    "df_credit = pd.read_csv(r\"C:/Users/Economia/Documents/Soy Henry/Proyecto Individual/credits.csv\")"
   ]
  },
  {
   "cell_type": "code",
   "execution_count": 515,
   "metadata": {},
   "outputs": [],
   "source": [
    "df_cast1= pd.DataFrame(df_credit[['cast', 'id']])"
   ]
  },
  {
   "cell_type": "code",
   "execution_count": 516,
   "metadata": {},
   "outputs": [],
   "source": [
    "df_cast1['cast'] = df_cast1['cast'].replace({r'\\[|\\]': ''}, regex=True)"
   ]
  },
  {
   "cell_type": "code",
   "execution_count": 517,
   "metadata": {},
   "outputs": [],
   "source": [
    "# Utilizamos la función findall para separar los elementos en filas individuales\n",
    "df_cast1['cast'] = df_cast1['cast'].str.findall(r\"\\{.*?\\}\")\n",
    "\n",
    "# Separamos (hacemos saltos cuando obsermos las llaves) los elementos de la columna 'genres' en registros individuales\n",
    "df_cast1 = df_cast1.explode('cast')"
   ]
  },
  {
   "cell_type": "code",
   "execution_count": 518,
   "metadata": {},
   "outputs": [],
   "source": [
    "df_cast1['cast'] = df_cast1['cast'].replace({r'{|}': ''}, regex=True).to_frame() #eliminamos las llaves"
   ]
  },
  {
   "cell_type": "code",
   "execution_count": 519,
   "metadata": {},
   "outputs": [],
   "source": [
    "df_cast1_copy= df_cast1"
   ]
  },
  {
   "cell_type": "code",
   "execution_count": 520,
   "metadata": {},
   "outputs": [],
   "source": [
    "df_desanidado = df_cast1_copy['cast'].str.split(',', expand=True)"
   ]
  },
  {
   "cell_type": "code",
   "execution_count": 521,
   "metadata": {},
   "outputs": [],
   "source": [
    "df_desanidado['id'] = df_cast1_copy['id']"
   ]
  },
  {
   "cell_type": "code",
   "execution_count": 522,
   "metadata": {},
   "outputs": [],
   "source": [
    "columnas_eliminar = df_desanidado.columns[8:14]  # Obtiene los nombres de las columnas a eliminar\n",
    "\n",
    "# Eliminar las columnas especificadas\n",
    "df_desanidado = df_desanidado.drop(columnas_eliminar, axis=1)"
   ]
  },
  {
   "cell_type": "code",
   "execution_count": 523,
   "metadata": {},
   "outputs": [],
   "source": [
    "df_desanidado.columns = ['cast_id', 'character', 'credit_id','gender','id_cast', 'name_cast', 'order', 'profile_path' , \"id\"]"
   ]
  },
  {
   "cell_type": "code",
   "execution_count": 524,
   "metadata": {},
   "outputs": [],
   "source": [
    "df_desanidado['cast_id'] = df_desanidado['cast_id'].str.replace(\"'cast_id':\", '')\n",
    "df_desanidado['character'] = df_desanidado['character'].str.replace(\"'character':\", '')\n",
    "df_desanidado['credit_id'] = df_desanidado['credit_id'].str.replace(\"'credit_id':\", '')\n",
    "df_desanidado['gender'] = df_desanidado['gender'].str.replace(\"'gender':\", '')\n",
    "df_desanidado['id_cast'] = df_desanidado['id_cast'].str.replace(\"'id':\", '')\n",
    "df_desanidado['name_cast'] = df_desanidado['name_cast'].str.replace(\"'name':\", '')\n",
    "df_desanidado['order'] = df_desanidado['order'].str.replace(\"'order':\", '')\n",
    "df_desanidado['profile_path'] = df_desanidado['profile_path'].str.replace(\"'profile_path':\", '')"
   ]
  },
  {
   "cell_type": "code",
   "execution_count": null,
   "metadata": {},
   "outputs": [],
   "source": [
    "df_clean = df_desanidado.dropna(subset=df_desanidado.columns.difference(['id']), how='all')"
   ]
  },
  {
   "cell_type": "code",
   "execution_count": null,
   "metadata": {},
   "outputs": [
    {
     "data": {
      "text/plain": [
       "Index(['cast_id', 'character', 'credit_id', 'gender', 'id_cast', 'name_cast',\n",
       "       'order', 'profile_path', 'id'],\n",
       "      dtype='object')"
      ]
     },
     "execution_count": 416,
     "metadata": {},
     "output_type": "execute_result"
    }
   ],
   "source": [
    "df_clean.columns"
   ]
  },
  {
   "attachments": {},
   "cell_type": "markdown",
   "metadata": {},
   "source": [
    "Ahora trabajamos con la columna crew del dataset credit\n"
   ]
  },
  {
   "cell_type": "code",
   "execution_count": null,
   "metadata": {},
   "outputs": [],
   "source": [
    "df_crew= pd.DataFrame(df_credit[['crew', 'id']])"
   ]
  },
  {
   "attachments": {},
   "cell_type": "markdown",
   "metadata": {},
   "source": [
    "Expansión de columnas anidadas - proceso de armado de dataset para conocer mas sobre los directores"
   ]
  },
  {
   "cell_type": "code",
   "execution_count": null,
   "metadata": {},
   "outputs": [],
   "source": [
    "df_crew['crew'] = df_crew['crew'].replace({r'\\[|\\]': ''}, regex=True)"
   ]
  },
  {
   "cell_type": "code",
   "execution_count": null,
   "metadata": {},
   "outputs": [],
   "source": [
    "# Utilizar la función findall para separar los elementos en filas individuales\n",
    "df_crew['crew'] = df_crew['crew'].str.findall(r\"\\{.*?\\}\")\n",
    "\n",
    "# Explotar los elementos de la columna 'genres' en registros individuales\n",
    "df_crew = df_crew.explode('crew')"
   ]
  },
  {
   "cell_type": "code",
   "execution_count": null,
   "metadata": {},
   "outputs": [],
   "source": [
    "df_crew_copy= df_crew"
   ]
  },
  {
   "cell_type": "code",
   "execution_count": null,
   "metadata": {},
   "outputs": [],
   "source": [
    "df_crew_copy = df_crew_copy['crew'].str.split(',', expand=True)"
   ]
  },
  {
   "cell_type": "code",
   "execution_count": null,
   "metadata": {},
   "outputs": [],
   "source": [
    "df_crew_copy['id'] = df_crew['id']"
   ]
  },
  {
   "cell_type": "code",
   "execution_count": null,
   "metadata": {},
   "outputs": [],
   "source": [
    "df_crew_copy.columns = ['credit_id', 'department', 'gender','id_crew', \"job\", 'name_crew', 'profile_path' , \"raro\", \"id\"]"
   ]
  },
  {
   "cell_type": "code",
   "execution_count": null,
   "metadata": {},
   "outputs": [],
   "source": [
    "#vamos eliminando donde encuentre estos nombres\n",
    "df_crew_copy['credit_id'] = df_crew_copy['credit_id'].str.replace(\"'credit_id':\", '')\n",
    "df_crew_copy['department'] = df_crew_copy['department'].str.replace(\"'department':\", '')\n",
    "df_crew_copy['gender'] = df_crew_copy['gender'].str.replace(\"'gender':\", '')\n",
    "df_crew_copy['id_crew'] = df_crew_copy['id_crew'].str.replace(\"'id_crew':\", '')\n",
    "df_crew_copy['job'] = df_crew_copy['job'].str.replace(\"'job':\", '')\n",
    "df_crew_copy['name_crew'] = df_crew_copy['name_crew'].str.replace(\"'name':\", '')\n",
    "df_crew_copy['profile_path'] = df_crew_copy['profile_path'].str.replace(\"'profile_path':\", '')"
   ]
  },
  {
   "cell_type": "code",
   "execution_count": null,
   "metadata": {},
   "outputs": [],
   "source": [
    "# Filtrar los registros no nulos en una columna\n",
    "columna_no_nulos = df_crew_copy['raro'].notna()  # o df['nombre_columna'].notnull()\n",
    "\n",
    "# Crear un nuevo DataFrame con los registros no nulos\n",
    "df_no_nulos = df_crew_copy[columna_no_nulos].copy()\n"
   ]
  },
  {
   "cell_type": "code",
   "execution_count": null,
   "metadata": {},
   "outputs": [],
   "source": [
    "df_no_nulos['name_crew'] = df_no_nulos['name_crew'] + df_no_nulos['profile_path']"
   ]
  },
  {
   "cell_type": "code",
   "execution_count": null,
   "metadata": {},
   "outputs": [],
   "source": [
    "df_no_nulos= df_no_nulos.drop('profile_path', axis=1)"
   ]
  },
  {
   "cell_type": "code",
   "execution_count": null,
   "metadata": {},
   "outputs": [],
   "source": [
    "df_no_nulos = df_no_nulos.rename(columns={'raro': 'profile_path'})"
   ]
  },
  {
   "cell_type": "code",
   "execution_count": null,
   "metadata": {},
   "outputs": [],
   "source": [
    "df_no_nulos['id_crew'] = df_no_nulos['id_crew'].str.replace(\"'id':\", '')\n",
    "df_no_nulos['profile_path'] = df_no_nulos['profile_path'].str.replace(\"'profile_path':\", '')"
   ]
  },
  {
   "cell_type": "code",
   "execution_count": null,
   "metadata": {},
   "outputs": [],
   "source": [
    "df_crew_copy= df_crew_copy.drop('raro', axis=1)"
   ]
  },
  {
   "cell_type": "code",
   "execution_count": null,
   "metadata": {},
   "outputs": [],
   "source": [
    "df_crew_copy = pd.concat([df_crew_copy, df_no_nulos])"
   ]
  },
  {
   "cell_type": "code",
   "execution_count": null,
   "metadata": {},
   "outputs": [
    {
     "data": {
      "text/plain": [
       "Index(['credit_id', 'department', 'gender', 'id_crew', 'job', 'name_crew',\n",
       "       'profile_path', 'id'],\n",
       "      dtype='object')"
      ]
     },
     "execution_count": 432,
     "metadata": {},
     "output_type": "execute_result"
    }
   ],
   "source": [
    "df_crew_copy.columns"
   ]
  },
  {
   "attachments": {},
   "cell_type": "markdown",
   "metadata": {},
   "source": [
    "Elimino todos los registros del dataset de name_crew de personas que no trabajen en el pefil de directores en todas sus diferentes vertientes. Dado que me permite reducir el tamaño de los registros "
   ]
  },
  {
   "cell_type": "code",
   "execution_count": null,
   "metadata": {},
   "outputs": [],
   "source": [
    "# Filtrar el DataFrame df_crew_copy por el valor \"Director\" en la columna \"job\"\n",
    "df_directors = df_crew_copy[df_crew_copy['job'].str.contains('Director', case=False, na=False)]\n",
    "\n",
    "# Crear un nuevo DataFrame con las columnas \"id\" y \"name_crew\" para los directores\n",
    "df_director_names = df_directors[['id', 'name_crew']].copy()"
   ]
  },
  {
   "cell_type": "code",
   "execution_count": null,
   "metadata": {},
   "outputs": [],
   "source": [
    "df_director_names['id'] = df_director_names['id'].astype(str)"
   ]
  },
  {
   "cell_type": "code",
   "execution_count": null,
   "metadata": {},
   "outputs": [],
   "source": [
    "df_final = pd.merge(df_final, df_director_names[['id', 'name_crew']], on='id', how='left')"
   ]
  },
  {
   "cell_type": "code",
   "execution_count": null,
   "metadata": {},
   "outputs": [
    {
     "name": "stderr",
     "output_type": "stream",
     "text": [
      "C:\\Users\\Economia\\AppData\\Local\\Temp\\ipykernel_18720\\1830367170.py:2: SettingWithCopyWarning: \n",
      "A value is trying to be set on a copy of a slice from a DataFrame.\n",
      "Try using .loc[row_indexer,col_indexer] = value instead\n",
      "\n",
      "See the caveats in the documentation: https://pandas.pydata.org/pandas-docs/stable/user_guide/indexing.html#returning-a-view-versus-a-copy\n",
      "  df_clean['id'] = df_clean['id'].astype(str)\n"
     ]
    }
   ],
   "source": [
    "# Convertir la columna \"id\" del dataframe df_clean a tipo object\n",
    "df_clean['id'] = df_clean['id'].astype(str)\n",
    "\n",
    "# Realizar el merge entre df_final y df_clean utilizando la columna \"id\"\n",
    "df_final = pd.merge(df_final, df_clean[['id', 'name_cast']], on='id', how='left')"
   ]
  },
  {
   "cell_type": "code",
   "execution_count": null,
   "metadata": {},
   "outputs": [],
   "source": [
    "df4['id'] = df4['id'].astype(str)"
   ]
  },
  {
   "cell_type": "code",
   "execution_count": null,
   "metadata": {},
   "outputs": [],
   "source": [
    "df_final = pd.merge(df_final, df4[['id', 'name_genres']], on='id', how='left')"
   ]
  },
  {
   "cell_type": "code",
   "execution_count": null,
   "metadata": {},
   "outputs": [],
   "source": [
    "merged_df = df_final.copy()"
   ]
  },
  {
   "cell_type": "code",
   "execution_count": null,
   "metadata": {},
   "outputs": [],
   "source": [
    "merged_df= merged_df.drop(['name_cast','name_crew','name_genres'], axis=1)"
   ]
  },
  {
   "cell_type": "code",
   "execution_count": null,
   "metadata": {},
   "outputs": [],
   "source": [
    "merged_df = merged_df.merge(df4_1[['id', 'name_genres']], on='id', how='left')\n"
   ]
  },
  {
   "cell_type": "code",
   "execution_count": null,
   "metadata": {},
   "outputs": [],
   "source": [
    "merged_df.drop_duplicates(inplace=True)  # dataset para hacer el analisis de los datos"
   ]
  },
  {
   "attachments": {},
   "cell_type": "markdown",
   "metadata": {},
   "source": [
    "Armamos un dataframe con las columnas relevantes que nos permitan tener un registro por pelicula al compartir informacion común. De esta forma reduzco el tamaño de los registros "
   ]
  },
  {
   "cell_type": "code",
   "execution_count": null,
   "metadata": {},
   "outputs": [],
   "source": [
    "columns = ['id', 'title', 'vote_count', 'vote_average', 'popularity', 'day_of_week', 'release_month', 'release_year', 'return', 'budget','release_date' , 'revenue']\n",
    "new_df = df_final[columns].copy()"
   ]
  },
  {
   "cell_type": "code",
   "execution_count": null,
   "metadata": {},
   "outputs": [],
   "source": [
    "# Eliminar los datos duplicados\n",
    "new_df.drop_duplicates(inplace=True)"
   ]
  },
  {
   "cell_type": "code",
   "execution_count": null,
   "metadata": {},
   "outputs": [
    {
     "data": {
      "text/html": [
       "<div>\n",
       "<style scoped>\n",
       "    .dataframe tbody tr th:only-of-type {\n",
       "        vertical-align: middle;\n",
       "    }\n",
       "\n",
       "    .dataframe tbody tr th {\n",
       "        vertical-align: top;\n",
       "    }\n",
       "\n",
       "    .dataframe thead th {\n",
       "        text-align: right;\n",
       "    }\n",
       "</style>\n",
       "<table border=\"1\" class=\"dataframe\">\n",
       "  <thead>\n",
       "    <tr style=\"text-align: right;\">\n",
       "      <th></th>\n",
       "      <th>id</th>\n",
       "      <th>title</th>\n",
       "      <th>vote_count</th>\n",
       "      <th>vote_average</th>\n",
       "      <th>popularity</th>\n",
       "      <th>day_of_week</th>\n",
       "      <th>release_month</th>\n",
       "      <th>release_year</th>\n",
       "      <th>return</th>\n",
       "      <th>budget</th>\n",
       "      <th>release_date</th>\n",
       "      <th>revenue</th>\n",
       "    </tr>\n",
       "  </thead>\n",
       "  <tbody>\n",
       "    <tr>\n",
       "      <th>0</th>\n",
       "      <td>862</td>\n",
       "      <td>Toy Story</td>\n",
       "      <td>5415.0</td>\n",
       "      <td>7.7</td>\n",
       "      <td>21.946943</td>\n",
       "      <td>Lunes</td>\n",
       "      <td>octubre</td>\n",
       "      <td>1995</td>\n",
       "      <td>12.451801</td>\n",
       "      <td>30000000.0</td>\n",
       "      <td>1995-10-30</td>\n",
       "      <td>373554033.0</td>\n",
       "    </tr>\n",
       "    <tr>\n",
       "      <th>156</th>\n",
       "      <td>8844</td>\n",
       "      <td>Jumanji</td>\n",
       "      <td>2413.0</td>\n",
       "      <td>6.9</td>\n",
       "      <td>17.015539</td>\n",
       "      <td>Viernes</td>\n",
       "      <td>diciembre</td>\n",
       "      <td>1995</td>\n",
       "      <td>4.043035</td>\n",
       "      <td>65000000.0</td>\n",
       "      <td>1995-12-15</td>\n",
       "      <td>262797249.0</td>\n",
       "    </tr>\n",
       "  </tbody>\n",
       "</table>\n",
       "</div>"
      ],
      "text/plain": [
       "       id      title  vote_count  vote_average popularity day_of_week  \\\n",
       "0     862  Toy Story      5415.0           7.7  21.946943       Lunes   \n",
       "156  8844    Jumanji      2413.0           6.9  17.015539     Viernes   \n",
       "\n",
       "    release_month  release_year     return      budget release_date  \\\n",
       "0         octubre          1995  12.451801  30000000.0   1995-10-30   \n",
       "156     diciembre          1995   4.043035  65000000.0   1995-12-15   \n",
       "\n",
       "         revenue  \n",
       "0    373554033.0  \n",
       "156  262797249.0  "
      ]
     },
     "execution_count": 479,
     "metadata": {},
     "output_type": "execute_result"
    }
   ],
   "source": [
    "new_df.head(2) # datos listos para usar en las primeras 5 funciones "
   ]
  },
  {
   "attachments": {},
   "cell_type": "markdown",
   "metadata": {},
   "source": [
    "Armamos un dataset que nos permite estudiar a los actores"
   ]
  },
  {
   "cell_type": "code",
   "execution_count": null,
   "metadata": {},
   "outputs": [],
   "source": [
    "new_df2 = df_final[['name_cast', 'title', 'return','id']].copy()"
   ]
  },
  {
   "cell_type": "code",
   "execution_count": null,
   "metadata": {},
   "outputs": [],
   "source": [
    "# Eliminar los datos duplicados\n",
    "new_df2.drop_duplicates(inplace=True)"
   ]
  },
  {
   "cell_type": "code",
   "execution_count": null,
   "metadata": {},
   "outputs": [
    {
     "data": {
      "text/html": [
       "<div>\n",
       "<style scoped>\n",
       "    .dataframe tbody tr th:only-of-type {\n",
       "        vertical-align: middle;\n",
       "    }\n",
       "\n",
       "    .dataframe tbody tr th {\n",
       "        vertical-align: top;\n",
       "    }\n",
       "\n",
       "    .dataframe thead th {\n",
       "        text-align: right;\n",
       "    }\n",
       "</style>\n",
       "<table border=\"1\" class=\"dataframe\">\n",
       "  <thead>\n",
       "    <tr style=\"text-align: right;\">\n",
       "      <th></th>\n",
       "      <th>name_cast</th>\n",
       "      <th>title</th>\n",
       "      <th>return</th>\n",
       "      <th>id</th>\n",
       "    </tr>\n",
       "  </thead>\n",
       "  <tbody>\n",
       "    <tr>\n",
       "      <th>0</th>\n",
       "      <td>'Tom Hanks'</td>\n",
       "      <td>Toy Story</td>\n",
       "      <td>12.451801</td>\n",
       "      <td>862</td>\n",
       "    </tr>\n",
       "    <tr>\n",
       "      <th>3</th>\n",
       "      <td>'Tim Allen'</td>\n",
       "      <td>Toy Story</td>\n",
       "      <td>12.451801</td>\n",
       "      <td>862</td>\n",
       "    </tr>\n",
       "    <tr>\n",
       "      <th>6</th>\n",
       "      <td>'Don Rickles'</td>\n",
       "      <td>Toy Story</td>\n",
       "      <td>12.451801</td>\n",
       "      <td>862</td>\n",
       "    </tr>\n",
       "    <tr>\n",
       "      <th>9</th>\n",
       "      <td>'Jim Varney'</td>\n",
       "      <td>Toy Story</td>\n",
       "      <td>12.451801</td>\n",
       "      <td>862</td>\n",
       "    </tr>\n",
       "    <tr>\n",
       "      <th>12</th>\n",
       "      <td>'Wallace Shawn'</td>\n",
       "      <td>Toy Story</td>\n",
       "      <td>12.451801</td>\n",
       "      <td>862</td>\n",
       "    </tr>\n",
       "  </tbody>\n",
       "</table>\n",
       "</div>"
      ],
      "text/plain": [
       "            name_cast      title     return   id\n",
       "0         'Tom Hanks'  Toy Story  12.451801  862\n",
       "3         'Tim Allen'  Toy Story  12.451801  862\n",
       "6       'Don Rickles'  Toy Story  12.451801  862\n",
       "9        'Jim Varney'  Toy Story  12.451801  862\n",
       "12    'Wallace Shawn'  Toy Story  12.451801  862"
      ]
     },
     "execution_count": 480,
     "metadata": {},
     "output_type": "execute_result"
    }
   ],
   "source": [
    "new_df2.head(5) # datos listos para usar en la funcion get actor"
   ]
  },
  {
   "attachments": {},
   "cell_type": "markdown",
   "metadata": {},
   "source": [
    "Armamos un dataset que nos permite estudiar a los directores"
   ]
  },
  {
   "cell_type": "code",
   "execution_count": null,
   "metadata": {},
   "outputs": [],
   "source": [
    "new_df3 = df_final[['name_crew', 'title', 'return', 'release_date', 'budget','revenue', 'id' ]].copy()"
   ]
  },
  {
   "cell_type": "code",
   "execution_count": null,
   "metadata": {},
   "outputs": [],
   "source": [
    "# Eliminar los datos duplicados\n",
    "new_df3.drop_duplicates(inplace=True)"
   ]
  },
  {
   "cell_type": "code",
   "execution_count": null,
   "metadata": {},
   "outputs": [
    {
     "data": {
      "text/html": [
       "<div>\n",
       "<style scoped>\n",
       "    .dataframe tbody tr th:only-of-type {\n",
       "        vertical-align: middle;\n",
       "    }\n",
       "\n",
       "    .dataframe tbody tr th {\n",
       "        vertical-align: top;\n",
       "    }\n",
       "\n",
       "    .dataframe thead th {\n",
       "        text-align: right;\n",
       "    }\n",
       "</style>\n",
       "<table border=\"1\" class=\"dataframe\">\n",
       "  <thead>\n",
       "    <tr style=\"text-align: right;\">\n",
       "      <th></th>\n",
       "      <th>name_crew</th>\n",
       "      <th>title</th>\n",
       "      <th>return</th>\n",
       "      <th>release_date</th>\n",
       "      <th>budget</th>\n",
       "      <th>revenue</th>\n",
       "      <th>id</th>\n",
       "    </tr>\n",
       "  </thead>\n",
       "  <tbody>\n",
       "    <tr>\n",
       "      <th>0</th>\n",
       "      <td>'John Lasseter'</td>\n",
       "      <td>Toy Story</td>\n",
       "      <td>12.451801</td>\n",
       "      <td>1995-10-30</td>\n",
       "      <td>30000000.0</td>\n",
       "      <td>373554033.0</td>\n",
       "      <td>862</td>\n",
       "    </tr>\n",
       "    <tr>\n",
       "      <th>39</th>\n",
       "      <td>'Ash Brannon'</td>\n",
       "      <td>Toy Story</td>\n",
       "      <td>12.451801</td>\n",
       "      <td>1995-10-30</td>\n",
       "      <td>30000000.0</td>\n",
       "      <td>373554033.0</td>\n",
       "      <td>862</td>\n",
       "    </tr>\n",
       "    <tr>\n",
       "      <th>78</th>\n",
       "      <td>'William Reeves'</td>\n",
       "      <td>Toy Story</td>\n",
       "      <td>12.451801</td>\n",
       "      <td>1995-10-30</td>\n",
       "      <td>30000000.0</td>\n",
       "      <td>373554033.0</td>\n",
       "      <td>862</td>\n",
       "    </tr>\n",
       "    <tr>\n",
       "      <th>117</th>\n",
       "      <td>'Rich Quade'</td>\n",
       "      <td>Toy Story</td>\n",
       "      <td>12.451801</td>\n",
       "      <td>1995-10-30</td>\n",
       "      <td>30000000.0</td>\n",
       "      <td>373554033.0</td>\n",
       "      <td>862</td>\n",
       "    </tr>\n",
       "    <tr>\n",
       "      <th>156</th>\n",
       "      <td>'Joe Johnston'</td>\n",
       "      <td>Jumanji</td>\n",
       "      <td>4.043035</td>\n",
       "      <td>1995-12-15</td>\n",
       "      <td>65000000.0</td>\n",
       "      <td>262797249.0</td>\n",
       "      <td>8844</td>\n",
       "    </tr>\n",
       "  </tbody>\n",
       "</table>\n",
       "</div>"
      ],
      "text/plain": [
       "              name_crew      title     return release_date      budget  \\\n",
       "0       'John Lasseter'  Toy Story  12.451801   1995-10-30  30000000.0   \n",
       "39        'Ash Brannon'  Toy Story  12.451801   1995-10-30  30000000.0   \n",
       "78     'William Reeves'  Toy Story  12.451801   1995-10-30  30000000.0   \n",
       "117        'Rich Quade'  Toy Story  12.451801   1995-10-30  30000000.0   \n",
       "156      'Joe Johnston'    Jumanji   4.043035   1995-12-15  65000000.0   \n",
       "\n",
       "         revenue    id  \n",
       "0    373554033.0   862  \n",
       "39   373554033.0   862  \n",
       "78   373554033.0   862  \n",
       "117  373554033.0   862  \n",
       "156  262797249.0  8844  "
      ]
     },
     "execution_count": 481,
     "metadata": {},
     "output_type": "execute_result"
    }
   ],
   "source": [
    "new_df3.head(5)  #datos listos para usar en la funcion get_director"
   ]
  },
  {
   "attachments": {},
   "cell_type": "markdown",
   "metadata": {},
   "source": [
    "Endpoint"
   ]
  },
  {
   "cell_type": "code",
   "execution_count": null,
   "metadata": {},
   "outputs": [],
   "source": [
    "def cantidad_filmaciones_mes(df, mes):\n",
    "    # Filtrar las filas que corresponden al mes especificado (aceptar el mes sin comillas)\n",
    "    peliculas_mes = df[df['release_month'].str.lower() == mes.lower()]\n",
    "\n",
    "    # Crear una lista de IDs únicos de películas\n",
    "    ids_unicos = peliculas_mes['id'].unique()\n",
    "\n",
    "    # Contar la cantidad de películas distintas\n",
    "    cantidad_peliculas = len(ids_unicos)\n",
    "\n",
    "    return {'mes':mes, 'cantidad':cantidad_peliculas}"
   ]
  },
  {
   "cell_type": "code",
   "execution_count": null,
   "metadata": {},
   "outputs": [
    {
     "data": {
      "text/plain": [
       "{'mes': 'octubre', 'cantidad': 4613}"
      ]
     },
     "execution_count": 454,
     "metadata": {},
     "output_type": "execute_result"
    }
   ],
   "source": [
    "cantidad_filmaciones_mes(new_df, \"octubre\")"
   ]
  },
  {
   "cell_type": "code",
   "execution_count": null,
   "metadata": {},
   "outputs": [],
   "source": [
    "def score_titulo(df, titulo):\n",
    "    # Filtrar el DataFrame para obtener la fila correspondiente al título de la película\n",
    "    pelicula = df[df['title'] == titulo]\n",
    "\n",
    "    if pelicula.empty:\n",
    "        return \"No se encontró información para la película:\", titulo, \"Por favor controla que estas escribiendo bien\"\n",
    "\n",
    "    # Obtener el año de estreno y la popularidad de la película\n",
    "    release_year = pelicula['release_year'].values[0]\n",
    "    popularity = pelicula['popularity'].values[0]\n",
    "\n",
    "    return {'titulo':titulo, 'año': round(release_year), 'popularidad':popularity}"
   ]
  },
  {
   "cell_type": "code",
   "execution_count": null,
   "metadata": {},
   "outputs": [
    {
     "data": {
      "text/plain": [
       "{'titulo': 'Toy Story', 'año': 1995, 'popularidad': 21.946943}"
      ]
     },
     "execution_count": 456,
     "metadata": {},
     "output_type": "execute_result"
    }
   ],
   "source": [
    "score_titulo (new_df, \"Toy Story\")"
   ]
  },
  {
   "cell_type": "code",
   "execution_count": null,
   "metadata": {},
   "outputs": [],
   "source": [
    "def votos_titulo(df, titulo:str):\n",
    "    # Filtrar el DataFrame para obtener la fila correspondiente al título de la película\n",
    "    pelicula = df[df['title'] == titulo]\n",
    "\n",
    "    if pelicula.empty:\n",
    "        return \"No se encontró información para la película:\", titulo\n",
    "\n",
    "    # Obtener el año de estreno y la popularidad de la película\n",
    "    release_year = pelicula['release_year'].values[0]\n",
    "    vote_count = pelicula['vote_count'].values[0]\n",
    "    vote_average = pelicula['vote_average'].values[0]\n",
    "\n",
    "    if vote_count >= 2000:\n",
    "        return {'titulo':titulo, 'año':round(release_year), 'voto_total':vote_count, 'voto_promedio':vote_average}\n",
    "    \n",
    "    else:\n",
    "        return f\"La película {titulo} no cumple con la cantidad mínima de valoraciones requerida.\""
   ]
  },
  {
   "cell_type": "code",
   "execution_count": null,
   "metadata": {},
   "outputs": [
    {
     "data": {
      "text/plain": [
       "{'titulo': 'Toy Story',\n",
       " 'año': 1995,\n",
       " 'voto_total': 5415.0,\n",
       " 'voto_promedio': 7.7}"
      ]
     },
     "execution_count": 458,
     "metadata": {},
     "output_type": "execute_result"
    }
   ],
   "source": [
    "votos_titulo(new_df, \"Toy Story\")"
   ]
  },
  {
   "cell_type": "code",
   "execution_count": null,
   "metadata": {},
   "outputs": [],
   "source": [
    "def get_actor(df, nombre):\n",
    "    # Reemplazar los valores nulos en la columna 'name_cast' con una cadena única\n",
    "    df['name_cast'] = df['name_cast'].fillna('No disponible')\n",
    "\n",
    "    # Filtrar las filas que contienen el nombre en la columna 'name_cast'\n",
    "    peliculas_nombre = df[df['name_cast'].str.contains(nombre, case=False, regex=False)]\n",
    "\n",
    "    # Obtener la cantidad de películas\n",
    "    cantidad_peliculas = peliculas_nombre['id'].nunique()\n",
    "\n",
    "    # Obtener la suma de los retornos\n",
    "    suma_retornos = peliculas_nombre['return'].sum()\n",
    "\n",
    "    # Obtener el promedio de los retornos\n",
    "    promedio_retornos = peliculas_nombre['return'].mean()\n",
    "\n",
    "    return {'actor':nombre, 'cantidad_filmaciones':cantidad_peliculas,'retorno_total' : suma_retornos, 'retorno_promedio':promedio_retornos}"
   ]
  },
  {
   "cell_type": "code",
   "execution_count": null,
   "metadata": {},
   "outputs": [
    {
     "data": {
      "text/plain": [
       "{'actor': 'Tom Hanks',\n",
       " 'cantidad_filmaciones': 70,\n",
       " 'retorno_total': 173.3495309552024,\n",
       " 'retorno_promedio': 2.476421870788606}"
      ]
     },
     "execution_count": 460,
     "metadata": {},
     "output_type": "execute_result"
    }
   ],
   "source": [
    "get_actor(new_df2,'Tom Hanks')"
   ]
  },
  {
   "cell_type": "code",
   "execution_count": null,
   "metadata": {},
   "outputs": [],
   "source": [
    "def get_director(df, nombre_director):\n",
    "    # Reemplazar los valores nulos en la columna 'name_crew' con una cadena única\n",
    "    df['name_crew'] = df['name_crew'].fillna('No disponible')\n",
    "\n",
    "    # Filtrar las filas que contienen el nombre en la columna 'name_crew'\n",
    "    peliculas_nombre = df[df['name_crew'].str.contains(nombre_director, case=False, regex=False)]\n",
    "\n",
    "    # Obtener la cantidad de películas\n",
    "    cantidad_peliculas = peliculas_nombre['id'].nunique()\n",
    "\n",
    "    # Obtener la suma de los retornos\n",
    "    suma_retornos = peliculas_nombre.groupby('id')['return'].sum().sum()\n",
    "\n",
    "    # Crear un DataFrame con el título, la fecha de lanzamiento, el retorno, el costo y la ganancia de las películas\n",
    "    df_peliculas = peliculas_nombre.drop_duplicates(subset='id')[['title', 'release_date', 'return', 'budget', 'revenue']].reset_index(drop=True)\n",
    "\n",
    "    return df_peliculas, f\"'Nombre del director': {nombre_director}, 'retorno_total_director': {suma_retornos}\""
   ]
  },
  {
   "cell_type": "code",
   "execution_count": null,
   "metadata": {},
   "outputs": [
    {
     "data": {
      "text/plain": [
       "(                      title release_date     return       budget      revenue\n",
       " 0                 Toy Story   1995-10-30  12.451801   30000000.0  373554033.0\n",
       " 1              A Bug's Life   1998-11-25   3.027157  120000000.0  363258859.0\n",
       " 2               Toy Story 2   1999-10-30   5.526299   90000000.0  497366869.0\n",
       " 3                  Luxo Jr.   1986-08-17   0.000000          0.0          0.0\n",
       " 4                      Cars   2006-06-08   3.849860  120000000.0  461983149.0\n",
       " 5                    Cars 2   2011-06-11   2.799262  200000000.0  559852396.0\n",
       " 6                   Tin Toy   1988-08-01   0.000000          0.0          0.0\n",
       " 7               Red's Dream   1987-08-17   0.000000          0.0          0.0\n",
       " 8               Knick Knack   1989-01-01   0.000000          0.0          0.0\n",
       " 9  Mater and the Ghostlight   2006-07-27   0.000000          0.0          0.0,\n",
       " \"'Nombre del director': John Lasseter, 'retorno_total_director': 27.65437835777778\")"
      ]
     },
     "execution_count": 462,
     "metadata": {},
     "output_type": "execute_result"
    }
   ],
   "source": [
    "get_director(new_df3,'John Lasseter')"
   ]
  },
  {
   "cell_type": "code",
   "execution_count": null,
   "metadata": {},
   "outputs": [],
   "source": []
  }
 ],
 "metadata": {
  "kernelspec": {
   "display_name": "Python 3",
   "language": "python",
   "name": "python3"
  },
  "language_info": {
   "codemirror_mode": {
    "name": "ipython",
    "version": 3
   },
   "file_extension": ".py",
   "mimetype": "text/x-python",
   "name": "python",
   "nbconvert_exporter": "python",
   "pygments_lexer": "ipython3",
   "version": "3.10.9"
  },
  "orig_nbformat": 4
 },
 "nbformat": 4,
 "nbformat_minor": 2
}
